{
 "cells": [
  {
   "cell_type": "markdown",
   "metadata": {},
   "source": [
    "Importing libraries"
   ]
  },
  {
   "cell_type": "code",
   "execution_count": null,
   "metadata": {
    "pycharm": {
     "is_executing": true
    }
   },
   "outputs": [],
   "source": [
    "import math\n",
    "\n",
    "import matplotlib.pyplot as plt\n",
    "import numpy as np\n",
    "from timeit import default_timer as timer"
   ]
  },
  {
   "cell_type": "markdown",
   "metadata": {},
   "source": [
    "Importing classes"
   ]
  },
  {
   "cell_type": "code",
   "execution_count": null,
   "metadata": {
    "pycharm": {
     "is_executing": true
    }
   },
   "outputs": [],
   "source": [
    "#CMAB\n",
    "from Strategies.LinUCBGlobal              import LinUCBGlobal\n",
    "from Strategies.WoodburyLinUCBGlobal      import WoodburyLinUCBGlobal\n",
    "from Strategies.RLinUCBGlobal             import RLinUCBGlobal\n",
    "\n",
    "from Strategies.LinUCB                    import LinUCB\n",
    "from Strategies.RLinUCB                   import RLinUCB\n",
    "from Strategies.WoodburyLinUCB            import WoodburyLinUCB\n",
    "\n",
    "#Rewards\n",
    "from Strategies.Rewards.BernoulliFeature   import BernoulliFeature"
   ]
  },
  {
   "cell_type": "markdown",
   "metadata": {},
   "source": [
    "Init Parameters"
   ]
  },
  {
   "cell_type": "code",
   "execution_count": null,
   "metadata": {
    "pycharm": {
     "is_executing": true
    }
   },
   "outputs": [],
   "source": [
    "iterations = 100000\n",
    "experimentos = 1\n",
    "k = 10\n",
    "d = 10\n",
    "alpha = 1\n",
    "user_amount = 6\n",
    "max_prob = 0.3\n",
    "noise = 0.05\n",
    "aux1 = np.zeros(d)\n",
    "aux1[0]=1\n",
    "aux2= np.zeros(d)\n",
    "aux2[1] = 1\n",
    "best_theta = [aux1, aux2]\n",
    "lamb = 1\n",
    "\n",
    "sup_percentile = 75\n",
    "inf_percentile = 25"
   ]
  },
  {
   "cell_type": "markdown",
   "metadata": {},
   "source": [
    "Init"
   ]
  },
  {
   "cell_type": "code",
   "execution_count": null,
   "metadata": {
    "pycharm": {
     "is_executing": true
    }
   },
   "outputs": [],
   "source": [
    "reward_class = BernoulliFeature(k, d,user_amount, max_prob, noise, best_theta)"
   ]
  },
  {
   "cell_type": "code",
   "execution_count": null,
   "metadata": {
    "pycharm": {
     "is_executing": true
    }
   },
   "outputs": [],
   "source": [
    "# Run experiments\n",
    "rTime              = np.zeros(experimentos)\n",
    "wTime              = np.zeros(experimentos)\n",
    "nTime              = np.zeros(experimentos)\n",
    "# Run experiments\n",
    "for i in    range(experimentos):\n",
    "    print('exp: ' + str(i + 1) + '/' + str(experimentos))\n",
    "\n",
    "    linucbg        = LinUCBGlobal(k, iterations, reward_class, d, user_amount, alpha, lamb )\n",
    "    wlinucbg       = WoodburyLinUCBGlobal(k, iterations, reward_class, d, user_amount, alpha, lamb )\n",
    "    rlinucbg       = RLinUCBGlobal(k, iterations, reward_class, d, user_amount, alpha, lamb )\n",
    "\n",
    "    nTime[i] = timer()\n",
    "    linucbg.run()\n",
    "    nTime[i] = timer() - nTime[i]\n",
    "\n",
    "    wTime[i] = timer()\n",
    "    wlinucbg.run()\n",
    "    wTime[i] = timer() - wTime[i]\n",
    "\n",
    "    rTime[i] = timer()\n",
    "    rlinucbg.run()\n",
    "    rTime[i] = timer() - rTime[i]\n",
    "\n"
   ]
  },
  {
   "cell_type": "code",
   "execution_count": null,
   "outputs": [],
   "source": [
    "print(\"Tiempo del Ridge Regression Normal:\")\n",
    "print(np.average(nTime))\n",
    "print(\"Tiempo del Ridge Regression con Woodbury:\")\n",
    "print(np.average(wTime))\n",
    "print(\"Tiempo del Recursivo:\")\n",
    "print(np.average(rTime))"
   ],
   "metadata": {
    "collapsed": false,
    "pycharm": {
     "is_executing": true
    }
   }
  },
  {
   "cell_type": "code",
   "execution_count": null,
   "outputs": [],
   "source": [
    "fig = plt.figure(figsize =(10, 7))\n",
    "ax = fig.add_axes([0, 0, 1, 1])\n",
    "plt.title(\"Tiempo de LinUCB Global\")\n",
    "ax.set_xticklabels([\"LinUCB\", \"LinUCB Woodbury\",\"LinUCB recursivo\"])\n",
    "data = [nTime, wTime, rTime]\n",
    "bp = ax.boxplot(data)"
   ],
   "metadata": {
    "collapsed": false,
    "pycharm": {
     "is_executing": true
    }
   }
  },
  {
   "cell_type": "markdown",
   "source": [
    "LinUCB Individual"
   ],
   "metadata": {
    "collapsed": false
   }
  },
  {
   "cell_type": "code",
   "execution_count": null,
   "outputs": [],
   "source": [
    "# Run experiments\n",
    "rTime              = np.zeros(experimentos)\n",
    "wTime              = np.zeros(experimentos)\n",
    "nTime              = np.zeros(experimentos)\n",
    "# Run experiments\n",
    "for i in    range(experimentos):\n",
    "    print('exp: ' + str(i + 1) + '/' + str(experimentos))\n",
    "\n",
    "    linucbg      = LinUCB(k, iterations, reward_class, d, user_amount, alpha, lamb )\n",
    "    wlinucbg      = WoodburyLinUCB(k, iterations, reward_class, d, user_amount, alpha, lamb )\n",
    "    rlinucbg     = RLinUCB(k, iterations, reward_class, d, user_amount, alpha, lamb )\n",
    "\n",
    "    rTime[i] = timer()\n",
    "    rlinucbg.run()\n",
    "    rTime[i] = timer() - rTime[i]\n",
    "\n",
    "    wTime[i] = timer()\n",
    "    wlinucbg.run()\n",
    "    wTime[i] = timer() - wTime[i]\n",
    "\n",
    "    nTime[i] = timer()\n",
    "    linucbg.run()\n",
    "    nTime[i] = timer() - nTime[i]"
   ],
   "metadata": {
    "collapsed": false,
    "pycharm": {
     "is_executing": true
    }
   }
  },
  {
   "cell_type": "code",
   "execution_count": null,
   "outputs": [],
   "source": [
    "print(\"Tiempo del Ridge Regression Normal:\")\n",
    "print(np.average(nTime))\n",
    "print(\"Tiempo del Ridge Regression con Woodbury:\")\n",
    "print(np.average(wTime))\n",
    "print(\"Tiempo del Recursivo:\")\n",
    "print(np.average(rTime))"
   ],
   "metadata": {
    "collapsed": false,
    "pycharm": {
     "is_executing": true
    }
   }
  },
  {
   "cell_type": "code",
   "execution_count": null,
   "outputs": [],
   "source": [
    "fig = plt.figure(figsize =(10, 7))\n",
    "ax = fig.add_axes([0, 0, 1, 1])\n",
    "plt.title(\"Tiempo de LinUCB Global\")\n",
    "data = [nTime, wTime, rTime]\n",
    "ax.set_xticklabels([\"LinUCB\", \"LinUCB Woodbury\",\"LinUCB recursivo\"])\n",
    "bp = ax.boxplot(data)"
   ],
   "metadata": {
    "collapsed": false,
    "pycharm": {
     "is_executing": true
    }
   }
  }
 ],
 "metadata": {
  "kernelspec": {
   "display_name": "Python 3 (ipykernel)",
   "language": "python",
   "name": "python3"
  },
  "language_info": {
   "codemirror_mode": {
    "name": "ipython",
    "version": 3
   },
   "file_extension": ".py",
   "mimetype": "text/x-python",
   "name": "python",
   "nbconvert_exporter": "python",
   "pygments_lexer": "ipython3",
   "version": "3.10.9"
  }
 },
 "nbformat": 4,
 "nbformat_minor": 1
}
