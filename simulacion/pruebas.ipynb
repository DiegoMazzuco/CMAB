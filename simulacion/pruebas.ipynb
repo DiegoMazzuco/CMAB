{
 "cells": [
  {
   "cell_type": "code",
   "execution_count": 5,
   "metadata": {
    "collapsed": true
   },
   "outputs": [],
   "source": [
    "import numpy as np\n",
    "\n",
    "A1=np.array([[1,2],[3,4]])\n",
    "A2=np.array([[3,2],[2,3]])\n",
    "b1=np.array([2,2])\n",
    "b2=np.array([2,1])"
   ]
  },
  {
   "cell_type": "code",
   "execution_count": 8,
   "outputs": [
    {
     "name": "stdout",
     "output_type": "stream",
     "text": [
      "[-2.  2.]\n",
      "[ 0.8 -0.2]\n",
      "thetas promedio vs real\n",
      "[-0.6  0.9]\n",
      "[ 2. -1.]\n"
     ]
    }
   ],
   "source": [
    "theta1 = np.linalg.inv(A1).dot(b1)\n",
    "theta2= np.linalg.inv(A2).dot(b2)\n",
    "print(theta1)\n",
    "print(theta2)\n",
    "print(\"thetas promedio vs real\")\n",
    "theta = (theta1+theta2)/2\n",
    "thetareal= np.linalg.inv(A1+A2).dot(b1+b2)\n",
    "print(theta)\n",
    "print(thetareal)"
   ],
   "metadata": {
    "collapsed": false
   }
  }
 ],
 "metadata": {
  "kernelspec": {
   "display_name": "Python 3",
   "language": "python",
   "name": "python3"
  },
  "language_info": {
   "codemirror_mode": {
    "name": "ipython",
    "version": 2
   },
   "file_extension": ".py",
   "mimetype": "text/x-python",
   "name": "python",
   "nbconvert_exporter": "python",
   "pygments_lexer": "ipython2",
   "version": "2.7.6"
  }
 },
 "nbformat": 4,
 "nbformat_minor": 0
}
