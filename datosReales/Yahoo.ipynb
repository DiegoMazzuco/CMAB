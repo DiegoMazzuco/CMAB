{
 "cells": [
  {
   "cell_type": "markdown",
   "metadata": {},
   "source": [
    "Importing libraries"
   ]
  },
  {
   "cell_type": "code",
   "execution_count": 1,
   "metadata": {},
   "outputs": [],
   "source": [
    "import matplotlib.pyplot as plt\n",
    "import numpy as np\n",
    "import pickle"
   ]
  },
  {
   "cell_type": "markdown",
   "metadata": {},
   "source": [
    "Importing classes"
   ]
  },
  {
   "cell_type": "code",
   "execution_count": 2,
   "metadata": {},
   "outputs": [],
   "source": [
    "#MABs\n",
    "from Strategies.EpsilonGreedy_OFF       import EpsilonGreedy_OFF\n",
    "#from Strategies.BestOnly            import BestOnly\n",
    "from Strategies.UCB_OFF                 import UCB_OFF\n",
    "#CMAB\n",
    "from Strategies.LinUCB              import LinUCB\n",
    "from Strategies.LinUCBGlobal              import LinUCBGlobal\n",
    "#Rewards\n",
    "from Strategies.Rewards.OffFeature          import OffFeature"
   ]
  },
  {
   "cell_type": "markdown",
   "metadata": {},
   "source": [
    "Init Parameters"
   ]
  },
  {
   "cell_type": "code",
   "execution_count": 3,
   "metadata": {},
   "outputs": [],
   "source": [
    "iterations = 50000\n",
    "experimentos = 1\n",
    "k = 49\n",
    "d = 5\n",
    "eps = 0.1\n",
    "beta = 0.02\n",
    "alpha = 0.3\n",
    "alpha_ucb = 2\n",
    "max_prob = 0.3\n",
    "\n",
    "sup_percentile = 75\n",
    "inf_percentile = 25"
   ]
  },
  {
   "cell_type": "markdown",
   "metadata": {},
   "source": [
    "Init"
   ]
  },
  {
   "cell_type": "code",
   "execution_count": 4,
   "outputs": [
    {
     "name": "stdout",
     "output_type": "stream",
     "text": [
      "{109513: {'clicks': 6201, 'views': 110542, 'features': [0.211406, 3.6e-05, 0.002773, 0.569886, 0.2159], 'id': 109513, 'probability': 0.056096325378589135}, 109484: {'clicks': 428, 'views': 14084, 'features': [0.438513, 3e-06, 0.030714, 0.384494, 0.146277], 'id': 109484, 'probability': 0.030389094007384265}, 109495: {'clicks': 4403, 'views': 148819, 'features': [0.313277, 0.000125, 0.018413, 0.410555, 0.25763], 'id': 109495, 'probability': 0.029586275945947763}, 109494: {'clicks': 3241, 'views': 69754, 'features': [0.306008, 0.00045, 0.077048, 0.230439, 0.386055], 'id': 109494, 'probability': 0.04646328525962669}, 109492: {'clicks': 647, 'views': 44508, 'features': [0.33183, 2.2e-05, 0.019904, 0.44039, 0.207855], 'id': 109492, 'probability': 0.014536712501123393}, 109502: {'clicks': 3186, 'views': 74263, 'features': [0.277121, 0.000131, 0.038153, 0.335835, 0.34876], 'id': 109502, 'probability': 0.04290157952143059}, 109473: {'clicks': 4948, 'views': 130512, 'features': [0.295442, 1.4e-05, 0.135191, 0.292304, 0.27705], 'id': 109473, 'probability': 0.03791222263086919}, 109501: {'clicks': 1684, 'views': 56169, 'features': [0.249086, 0.001009, 0.514682, 0.067732, 0.167491], 'id': 109501, 'probability': 0.029980950346276417}, 109515: {'clicks': 2576, 'views': 152273, 'features': [0.281649, 0.000173, 0.195994, 0.151003, 0.371182], 'id': 109515, 'probability': 0.01691698462629619}, 109498: {'clicks': 2887, 'views': 93509, 'features': [0.306008, 0.00045, 0.077048, 0.230439, 0.386055], 'id': 109498, 'probability': 0.03087403351549049}, 109506: {'clicks': 3231, 'views': 89018, 'features': [0.264355, 1.2e-05, 0.037393, 0.420649, 0.277591], 'id': 109506, 'probability': 0.03629603001640118}, 109503: {'clicks': 10430, 'views': 171257, 'features': [0.306008, 0.00045, 0.077048, 0.230439, 0.386055], 'id': 109503, 'probability': 0.060902620038888924}, 109509: {'clicks': 4336, 'views': 113266, 'features': [0.306008, 0.00045, 0.077048, 0.230439, 0.386055], 'id': 109509, 'probability': 0.038281567284092315}, 109510: {'clicks': 11098, 'views': 223415, 'features': [0.287909, 2.5e-05, 0.008983, 0.511333, 0.191751], 'id': 109510, 'probability': 0.049674372803974666}, 109512: {'clicks': 6532, 'views': 157894, 'features': [0.297322, 2.5e-05, 0.034951, 0.413566, 0.254137], 'id': 109512, 'probability': 0.04136952639112316}, 109511: {'clicks': 9580, 'views': 172094, 'features': [0.381149, 0.000129, 0.060038, 0.269129, 0.289554], 'id': 109511, 'probability': 0.055667251618301626}, 109508: {'clicks': 7466, 'views': 130849, 'features': [0.264355, 1.2e-05, 0.037393, 0.420649, 0.277591], 'id': 109508, 'probability': 0.05705813571368524}, 109505: {'clicks': 65, 'views': 1427, 'features': [0.375829, 2.5e-05, 0.033041, 0.349637, 0.241468], 'id': 109505, 'probability': 0.04555010511562719}, 109453: {'clicks': 2746, 'views': 61890, 'features': [0.421669, 1.1e-05, 0.010902, 0.309585, 0.257833], 'id': 109453, 'probability': 0.04436904184844078}, 109514: {'clicks': 9164, 'views': 176305, 'features': [0.29775, 1.3e-05, 0.011603, 0.512182, 0.178452], 'id': 109514, 'probability': 0.051978106122911996}, 109519: {'clicks': 274, 'views': 18312, 'features': [0.396846, 8e-06, 0.037282, 0.346322, 0.219541], 'id': 109519, 'probability': 0.014962865880297074}, 109520: {'clicks': 8675, 'views': 201471, 'features': [0.016328, 0.953419, 0.000538, 0.008263, 0.021452], 'id': 109520, 'probability': 0.04305830615820639}, 109521: {'clicks': 2817, 'views': 59241, 'features': [0.359392, 5e-06, 0.019718, 0.427578, 0.193307], 'id': 109521, 'probability': 0.04755152681419963}, 109522: {'clicks': 1000, 'views': 75932, 'features': [0.214605, 3.7e-05, 0.410493, 0.097704, 0.277162], 'id': 109522, 'probability': 0.013169678133066428}, 109523: {'clicks': 2592, 'views': 84601, 'features': [0.316894, 2.3e-05, 0.21089, 0.198013, 0.27418], 'id': 109523, 'probability': 0.03063793572179998}, 109524: {'clicks': 7753, 'views': 160608, 'features': [0.274868, 3.2e-05, 0.046639, 0.362209, 0.316252], 'id': 109524, 'probability': 0.048272813309424185}, 109525: {'clicks': 8183, 'views': 153259, 'features': [0.306008, 0.00045, 0.077048, 0.230439, 0.386055], 'id': 109525, 'probability': 0.05339327543570035}, 109526: {'clicks': 4195, 'views': 105024, 'features': [0.432433, 2e-06, 0.069055, 0.351774, 0.146736], 'id': 109526, 'probability': 0.039943251066422915}, 109527: {'clicks': 3798, 'views': 64038, 'features': [0.375829, 2.5e-05, 0.033041, 0.349637, 0.241468], 'id': 109527, 'probability': 0.05930853555701302}, 109529: {'clicks': 3585, 'views': 131475, 'features': [0.27431, 3.6e-05, 0.039046, 0.417867, 0.268741], 'id': 109529, 'probability': 0.02726754135767256}, 109530: {'clicks': 4672, 'views': 129113, 'features': [0.306008, 0.00045, 0.077048, 0.230439, 0.386055], 'id': 109530, 'probability': 0.03618535701284921}, 109534: {'clicks': 5428, 'views': 111619, 'features': [0.335824, 2.4e-05, 0.091964, 0.270753, 0.301435], 'id': 109534, 'probability': 0.04862971357922934}, 109532: {'clicks': 7180, 'views': 107768, 'features': [0.346043, 3e-06, 0.141508, 0.260906, 0.251541], 'id': 109532, 'probability': 0.06662460099472942}, 109533: {'clicks': 2281, 'views': 107159, 'features': [0.306008, 0.00045, 0.077048, 0.230439, 0.386055], 'id': 109533, 'probability': 0.02128612622364897}, 109531: {'clicks': 3108, 'views': 99691, 'features': [0.375829, 2.5e-05, 0.033041, 0.349637, 0.241468], 'id': 109531, 'probability': 0.03117633487476302}, 109536: {'clicks': 1339, 'views': 91156, 'features': [0.348058, 3.1e-05, 0.016792, 0.411669, 0.22345], 'id': 109536, 'probability': 0.014689104392470051}, 109535: {'clicks': 2653, 'views': 64018, 'features': [0.023018, 0.0, 0.940113, 0.00754, 0.029328], 'id': 109535, 'probability': 0.04144146958667875}, 109417: {'clicks': 3917, 'views': 80162, 'features': [0.3747, 4.2e-05, 0.057424, 0.353131, 0.214703], 'id': 109417, 'probability': 0.04886355130860009}, 109542: {'clicks': 3086, 'views': 79184, 'features': [0.366902, 2.5e-05, 0.030549, 0.352425, 0.250099], 'id': 109542, 'probability': 0.038972519700949684}, 109538: {'clicks': 3723, 'views': 77038, 'features': [0.423495, 5e-06, 0.07167, 0.330424, 0.174407], 'id': 109538, 'probability': 0.04832679976115683}, 109543: {'clicks': 1318, 'views': 68283, 'features': [0.375829, 2.5e-05, 0.033041, 0.349637, 0.241468], 'id': 109543, 'probability': 0.01930202246532812}, 109540: {'clicks': 296, 'views': 5363, 'features': [0.314168, 6e-06, 0.017974, 0.487412, 0.180439], 'id': 109540, 'probability': 0.05519298899869476}, 109544: {'clicks': 2433, 'views': 58181, 'features': [0.24587, 0.0, 0.019737, 0.570151, 0.164242], 'id': 109544, 'probability': 0.041817775562468844}, 109545: {'clicks': 1037, 'views': 50351, 'features': [0.306008, 0.00045, 0.077048, 0.230439, 0.386055], 'id': 109545, 'probability': 0.020595420150543185}, 109546: {'clicks': 1411, 'views': 49235, 'features': [0.342538, 0.0, 0.012405, 0.512703, 0.132354], 'id': 109546, 'probability': 0.028658474662333705}, 109547: {'clicks': 2056, 'views': 45769, 'features': [0.264355, 1.2e-05, 0.037393, 0.420649, 0.277591], 'id': 109547, 'probability': 0.04492123489698267}, 109548: {'clicks': 797, 'views': 42370, 'features': [0.277121, 0.000131, 0.038153, 0.335835, 0.34876], 'id': 109548, 'probability': 0.018810479112579655}, 109550: {'clicks': 529, 'views': 26995, 'features': [0.264355, 1.2e-05, 0.037393, 0.420649, 0.277591], 'id': 109550, 'probability': 0.01959622152250417}, 109552: {'clicks': 158, 'views': 5260, 'features': [0.281649, 0.000173, 0.195994, 0.151003, 0.371182], 'id': 109552, 'probability': 0.03003802281368821}}\n"
     ]
    },
    {
     "name": "stderr",
     "output_type": "stream",
     "text": [
      "IOPub data rate exceeded.\n",
      "The notebook server will temporarily stop sending output\n",
      "to the client in order to avoid crashing it.\n",
      "To change this limit, set the config variable\n",
      "`--NotebookApp.iopub_data_rate_limit`.\n",
      "\n",
      "Current values:\n",
      "NotebookApp.iopub_data_rate_limit=1000000.0 (bytes/sec)\n",
      "NotebookApp.rate_limit_window=3.0 (secs)\n",
      "\n"
     ]
    }
   ],
   "source": [
    "with open('yahoo/articles.pkl', 'rb') as fp:\n",
    "    articles = pickle.load(fp)\n",
    "    print(articles)\n",
    "with open('yahoo/users.pkl', 'rb') as fp:\n",
    "    users = pickle.load(fp)\n",
    "    print(users)\n",
    "reward_class = OffFeature(k, d, articles, users)\n",
    "user_amount = len(users)"
   ],
   "metadata": {
    "collapsed": false
   }
  },
  {
   "cell_type": "code",
   "execution_count": 6,
   "outputs": [
    {
     "name": "stdout",
     "output_type": "stream",
     "text": [
      "1/1\n"
     ]
    },
    {
     "ename": "KeyboardInterrupt",
     "evalue": "",
     "output_type": "error",
     "traceback": [
      "\u001B[1;31m---------------------------------------------------------------------------\u001B[0m",
      "\u001B[1;31mKeyboardInterrupt\u001B[0m                         Traceback (most recent call last)",
      "Cell \u001B[1;32mIn[6], line 15\u001B[0m\n\u001B[0;32m     13\u001B[0m \u001B[38;5;66;03m#best_only           = BestOnly(k,iterations, reward_class)\u001B[39;00m\n\u001B[0;32m     14\u001B[0m ucb                 \u001B[38;5;241m=\u001B[39m UCB_OFF(k,iterations, reward_class, alpha_ucb)\n\u001B[1;32m---> 15\u001B[0m linucb              \u001B[38;5;241m=\u001B[39m \u001B[43mLinUCB\u001B[49m\u001B[43m(\u001B[49m\u001B[43mk\u001B[49m\u001B[43m,\u001B[49m\u001B[43m \u001B[49m\u001B[43miterations\u001B[49m\u001B[43m,\u001B[49m\u001B[43m \u001B[49m\u001B[43mreward_class\u001B[49m\u001B[43m,\u001B[49m\u001B[43m \u001B[49m\u001B[43md\u001B[49m\u001B[43m,\u001B[49m\u001B[43m \u001B[49m\u001B[38;5;28;43mlen\u001B[39;49m\u001B[43m(\u001B[49m\u001B[43musers\u001B[49m\u001B[43m)\u001B[49m\u001B[43m,\u001B[49m\u001B[43m \u001B[49m\u001B[43malpha\u001B[49m\u001B[43m \u001B[49m\u001B[43m)\u001B[49m\n\u001B[0;32m     16\u001B[0m linucbg              \u001B[38;5;241m=\u001B[39m LinUCBGlobal(k, iterations, reward_class, d, users, alpha )\n\u001B[0;32m     18\u001B[0m \u001B[38;5;66;03m# Run experiments\u001B[39;00m\n",
      "File \u001B[1;32m~\\Workspace\\PythonProjects\\CMAB\\datosReales\\Strategies\\LinUCB.py:16\u001B[0m, in \u001B[0;36mLinUCB.__init__\u001B[1;34m(self, k, iters, reward_class, d, user_amount, alpha)\u001B[0m\n\u001B[0;32m     14\u001B[0m \u001B[38;5;28mself\u001B[39m\u001B[38;5;241m.\u001B[39malpha \u001B[38;5;241m=\u001B[39m alpha\n\u001B[0;32m     15\u001B[0m \u001B[38;5;28mself\u001B[39m\u001B[38;5;241m.\u001B[39meventIter \u001B[38;5;241m=\u001B[39m \u001B[38;5;241m0\u001B[39m\n\u001B[1;32m---> 16\u001B[0m \u001B[38;5;28mself\u001B[39m\u001B[38;5;241m.\u001B[39musers \u001B[38;5;241m=\u001B[39m \u001B[43mreward_class\u001B[49m\u001B[38;5;241m.\u001B[39mget_users()\u001B[38;5;241m.\u001B[39mkeys()\n",
      "File \u001B[1;32m~\\Workspace\\PythonProjects\\CMAB\\datosReales\\Strategies\\LinUCB.py:16\u001B[0m, in \u001B[0;36mLinUCB.__init__\u001B[1;34m(self, k, iters, reward_class, d, user_amount, alpha)\u001B[0m\n\u001B[0;32m     14\u001B[0m \u001B[38;5;28mself\u001B[39m\u001B[38;5;241m.\u001B[39malpha \u001B[38;5;241m=\u001B[39m alpha\n\u001B[0;32m     15\u001B[0m \u001B[38;5;28mself\u001B[39m\u001B[38;5;241m.\u001B[39meventIter \u001B[38;5;241m=\u001B[39m \u001B[38;5;241m0\u001B[39m\n\u001B[1;32m---> 16\u001B[0m \u001B[38;5;28mself\u001B[39m\u001B[38;5;241m.\u001B[39musers \u001B[38;5;241m=\u001B[39m \u001B[43mreward_class\u001B[49m\u001B[38;5;241m.\u001B[39mget_users()\u001B[38;5;241m.\u001B[39mkeys()\n",
      "File \u001B[1;32m_pydevd_bundle\\pydevd_cython_win32_310_64.pyx:1179\u001B[0m, in \u001B[0;36m_pydevd_bundle.pydevd_cython_win32_310_64.SafeCallWrapper.__call__\u001B[1;34m()\u001B[0m\n",
      "File \u001B[1;32m_pydevd_bundle\\pydevd_cython_win32_310_64.pyx:620\u001B[0m, in \u001B[0;36m_pydevd_bundle.pydevd_cython_win32_310_64.PyDBFrame.trace_dispatch\u001B[1;34m()\u001B[0m\n",
      "File \u001B[1;32m_pydevd_bundle\\pydevd_cython_win32_310_64.pyx:929\u001B[0m, in \u001B[0;36m_pydevd_bundle.pydevd_cython_win32_310_64.PyDBFrame.trace_dispatch\u001B[1;34m()\u001B[0m\n",
      "File \u001B[1;32m_pydevd_bundle\\pydevd_cython_win32_310_64.pyx:920\u001B[0m, in \u001B[0;36m_pydevd_bundle.pydevd_cython_win32_310_64.PyDBFrame.trace_dispatch\u001B[1;34m()\u001B[0m\n",
      "File \u001B[1;32m_pydevd_bundle\\pydevd_cython_win32_310_64.pyx:317\u001B[0m, in \u001B[0;36m_pydevd_bundle.pydevd_cython_win32_310_64.PyDBFrame.do_wait_suspend\u001B[1;34m()\u001B[0m\n",
      "File \u001B[1;32m~\\AppData\\Local\\JetBrains\\PyCharm 2022.3.3\\plugins\\python\\helpers\\pydev\\pydevd.py:1160\u001B[0m, in \u001B[0;36mPyDB.do_wait_suspend\u001B[1;34m(self, thread, frame, event, arg, send_suspend_message, is_unhandled_exception)\u001B[0m\n\u001B[0;32m   1157\u001B[0m         from_this_thread\u001B[38;5;241m.\u001B[39mappend(frame_id)\n\u001B[0;32m   1159\u001B[0m \u001B[38;5;28;01mwith\u001B[39;00m \u001B[38;5;28mself\u001B[39m\u001B[38;5;241m.\u001B[39m_threads_suspended_single_notification\u001B[38;5;241m.\u001B[39mnotify_thread_suspended(thread_id, stop_reason):\n\u001B[1;32m-> 1160\u001B[0m     \u001B[38;5;28;43mself\u001B[39;49m\u001B[38;5;241;43m.\u001B[39;49m\u001B[43m_do_wait_suspend\u001B[49m\u001B[43m(\u001B[49m\u001B[43mthread\u001B[49m\u001B[43m,\u001B[49m\u001B[43m \u001B[49m\u001B[43mframe\u001B[49m\u001B[43m,\u001B[49m\u001B[43m \u001B[49m\u001B[43mevent\u001B[49m\u001B[43m,\u001B[49m\u001B[43m \u001B[49m\u001B[43marg\u001B[49m\u001B[43m,\u001B[49m\u001B[43m \u001B[49m\u001B[43msuspend_type\u001B[49m\u001B[43m,\u001B[49m\u001B[43m \u001B[49m\u001B[43mfrom_this_thread\u001B[49m\u001B[43m)\u001B[49m\n",
      "File \u001B[1;32m~\\AppData\\Local\\JetBrains\\PyCharm 2022.3.3\\plugins\\python\\helpers\\pydev\\pydevd.py:1175\u001B[0m, in \u001B[0;36mPyDB._do_wait_suspend\u001B[1;34m(self, thread, frame, event, arg, suspend_type, from_this_thread)\u001B[0m\n\u001B[0;32m   1172\u001B[0m             \u001B[38;5;28mself\u001B[39m\u001B[38;5;241m.\u001B[39m_call_mpl_hook()\n\u001B[0;32m   1174\u001B[0m         \u001B[38;5;28mself\u001B[39m\u001B[38;5;241m.\u001B[39mprocess_internal_commands()\n\u001B[1;32m-> 1175\u001B[0m         \u001B[43mtime\u001B[49m\u001B[38;5;241;43m.\u001B[39;49m\u001B[43msleep\u001B[49m\u001B[43m(\u001B[49m\u001B[38;5;241;43m0.01\u001B[39;49m\u001B[43m)\u001B[49m\n\u001B[0;32m   1177\u001B[0m \u001B[38;5;28mself\u001B[39m\u001B[38;5;241m.\u001B[39mcancel_async_evaluation(get_current_thread_id(thread), \u001B[38;5;28mstr\u001B[39m(\u001B[38;5;28mid\u001B[39m(frame)))\n\u001B[0;32m   1179\u001B[0m \u001B[38;5;66;03m# process any stepping instructions\u001B[39;00m\n",
      "\u001B[1;31mKeyboardInterrupt\u001B[0m: "
     ]
    }
   ],
   "source": [
    "# Run experiments\n",
    "eps_greedy_rewards          = np.zeros((experimentos,iterations))\n",
    "#best_only_rewards           = np.zeros((experimentos,iterations))\n",
    "ucb_rewards                 = np.zeros((experimentos,iterations))\n",
    "linucb_rewards              = np.zeros((experimentos,iterations))\n",
    "linucb_global_reward               = np.zeros((experimentos,iterations))\n",
    "# Run experiments\n",
    "for i in range(experimentos):\n",
    "    print(str(i + 1) + '/' + str(experimentos))\n",
    "\n",
    "    #Init MABs\n",
    "    eps_greedy          = EpsilonGreedy_OFF(k,iterations, reward_class, eps)\n",
    "    #best_only           = BestOnly(k,iterations, reward_class)\n",
    "    ucb                 = UCB_OFF(k,iterations, reward_class, alpha_ucb)\n",
    "    linucb              = LinUCB(k, iterations, reward_class, d, len(users), alpha )\n",
    "    linucbg              = LinUCBGlobal(k, iterations, reward_class, d, users, alpha )\n",
    "\n",
    "    # Run experiments\n",
    "    eps_greedy_rewards[i]           = eps_greedy.run()\n",
    "    #best_only_rewards[i]            = best_only.run()\n",
    "    ucb_rewards[i]                  = ucb.run()\n",
    "    linucb_rewards[i]               = linucb.run()\n",
    "    linucb_global_reward[i]               = linucbg.run()\n",
    "\n",
    "    #reward_class.reset()"
   ],
   "metadata": {
    "collapsed": false
   }
  },
  {
   "cell_type": "code",
   "execution_count": null,
   "outputs": [],
   "source": [
    "#eps\n",
    "eps_greedy_inf                  = np.percentile(eps_greedy_rewards,inf_percentile ,axis=0)\n",
    "eps_greedy_median_rew           = np.median(eps_greedy_rewards,axis=0)\n",
    "eps_greedy_sup                  = np.percentile(eps_greedy_rewards,sup_percentile ,axis=0)\n",
    "\n",
    "#best\n",
    "#best_only_inf                   = np.percentile(best_only_rewards,inf_percentile ,axis=0)\n",
    "#best_only_median_rew            = np.median(best_only_rewards,axis=0)\n",
    "#best_only_sup                   = np.percentile(best_only_rewards,sup_percentile ,axis=0)\n",
    "\n",
    "#ucb\n",
    "ucb_inf                         = np.percentile(ucb_rewards,inf_percentile ,axis=0)\n",
    "ucb_median_rew                  = np.median(ucb_rewards,axis=0)\n",
    "ucb_sup                         = np.percentile(ucb_rewards,sup_percentile ,axis=0)\n",
    "\n",
    "#linucb\n",
    "linucb_inf                      = np.percentile(linucb_rewards,inf_percentile ,axis=0)\n",
    "linucb_median_rew               = np.median(linucb_rewards,axis=0)\n",
    "linucb_sup                      = np.percentile(linucb_rewards,sup_percentile ,axis=0)\n",
    "\n",
    "#linucb global\n",
    "linucb_g_inf                      = np.percentile(linucb_global_reward,inf_percentile ,axis=0)\n",
    "linucb_g_median_rew               = np.median(linucb_global_reward,axis=0)\n",
    "linucb_g_sup                      = np.percentile(linucb_global_reward,sup_percentile ,axis=0)"
   ],
   "metadata": {
    "collapsed": false
   }
  },
  {
   "cell_type": "code",
   "execution_count": null,
   "metadata": {},
   "outputs": [],
   "source": [
    "fig, ax = plt.subplots()\n",
    "\n",
    "transparencia = 0.5\n",
    "\n",
    "#greedy\n",
    "plt.plot(eps_greedy_median_rew,label=\"$\\epsilon$ greedy only\", color = 'yellow')\n",
    "#ax.fill_between(x,eps_greedy_sup,eps_greedy_inf, color = 'yellow', alpha = transparencia)\n",
    "\n",
    "#best only\n",
    "#plt.plot(best_only_median_rew,label=\"best only\", color='green')\n",
    "#ax.fill_between(x,best_only_sup,best_only_inf, color = 'green', alpha = transparencia)\n",
    "\n",
    "#ucb\n",
    "plt.plot(ucb_median_rew,label=\"ucb\", color='skyblue')\n",
    "#ax.fill_between(x,ucb_sup,ucb_inf, color = 'skyblue', alpha = transparencia)\n",
    "\n",
    "#linucb\n",
    "plt.plot(linucb_median_rew,label=\"linucb\", color='black')\n",
    "#ax.fill_between(x,linucb_sup,linucb_inf, color = 'black', alpha = transparencia)\n",
    "\n",
    "#linucb global\n",
    "plt.plot(linucb_g_median_rew,label=\"linucb global\", color='red')\n",
    "\n",
    "plt.legend(bbox_to_anchor=(1.3, 0.5))\n",
    "plt.xlabel(\"Iterations\")\n",
    "plt.ylabel(\"Average Reward\")\n",
    "plt.title(\"Average Rewards after \" + str(iterations)\n",
    "    + \" Episodes\")\n",
    "plt.ylim(0,0.1)\n",
    "plt.show()\n"
   ]
  }
 ],
 "metadata": {
  "kernelspec": {
   "display_name": "Python 3 (ipykernel)",
   "language": "python",
   "name": "python3"
  },
  "language_info": {
   "codemirror_mode": {
    "name": "ipython",
    "version": 3
   },
   "file_extension": ".py",
   "mimetype": "text/x-python",
   "name": "python",
   "nbconvert_exporter": "python",
   "pygments_lexer": "ipython3",
   "version": "3.10.9"
  }
 },
 "nbformat": 4,
 "nbformat_minor": 1
}
