{
 "cells": [
  {
   "cell_type": "markdown",
   "metadata": {},
   "source": [
    "Importing libraries"
   ]
  },
  {
   "cell_type": "code",
   "execution_count": 1,
   "metadata": {},
   "outputs": [],
   "source": [
    "import math\n",
    "import random\n",
    "import matplotlib.pyplot as plt\n",
    "import numpy as np"
   ]
  },
  {
   "cell_type": "markdown",
   "metadata": {},
   "source": [
    "Importing classes"
   ]
  },
  {
   "cell_type": "code",
   "execution_count": 2,
   "metadata": {},
   "outputs": [
    {
     "ename": "ModuleNotFoundError",
     "evalue": "No module named 'codigo'",
     "output_type": "error",
     "traceback": [
      "\u001B[1;31m---------------------------------------------------------------------------\u001B[0m",
      "\u001B[1;31mModuleNotFoundError\u001B[0m                       Traceback (most recent call last)",
      "Cell \u001B[1;32mIn[2], line 2\u001B[0m\n\u001B[0;32m      1\u001B[0m \u001B[38;5;66;03m#CMAB\u001B[39;00m\n\u001B[1;32m----> 2\u001B[0m \u001B[38;5;28;01mfrom\u001B[39;00m \u001B[38;5;21;01mStrategies\u001B[39;00m\u001B[38;5;21;01m.\u001B[39;00m\u001B[38;5;21;01mRCLinUCB\u001B[39;00m                   \u001B[38;5;28;01mimport\u001B[39;00m RCLinUCB\n\u001B[0;32m      3\u001B[0m \u001B[38;5;28;01mfrom\u001B[39;00m \u001B[38;5;21;01mStrategies\u001B[39;00m\u001B[38;5;21;01m.\u001B[39;00m\u001B[38;5;21;01mRCLinUCBProduct\u001B[39;00m                   \u001B[38;5;28;01mimport\u001B[39;00m RCLinUCBProduct\n\u001B[0;32m      4\u001B[0m \u001B[38;5;66;03m#Rewards\u001B[39;00m\n",
      "File \u001B[1;32m~\\Workspace\\PythonProjects\\CMAB\\simulacion\\Strategies\\__init__.py:1\u001B[0m\n\u001B[1;32m----> 1\u001B[0m \u001B[38;5;28;01mfrom\u001B[39;00m \u001B[38;5;21;01m.\u001B[39;00m\u001B[38;5;21;01mLinUCB\u001B[39;00m \u001B[38;5;28;01mimport\u001B[39;00m LinUCB\n\u001B[0;32m      3\u001B[0m __all__ \u001B[38;5;241m=\u001B[39m [\u001B[38;5;124m\"\u001B[39m\u001B[38;5;124mCLinUCB\u001B[39m\u001B[38;5;124m\"\u001B[39m, \u001B[38;5;124m\"\u001B[39m\u001B[38;5;124mLinUCB\u001B[39m\u001B[38;5;124m\"\u001B[39m, \u001B[38;5;124m\"\u001B[39m\u001B[38;5;124mWoodburyLinUCB\u001B[39m\u001B[38;5;124m\"\u001B[39m, \u001B[38;5;124m\"\u001B[39m\u001B[38;5;124mRLinUCB\u001B[39m\u001B[38;5;124m\"\u001B[39m, \u001B[38;5;124m\"\u001B[39m\u001B[38;5;124mCLUB\u001B[39m\u001B[38;5;124m\"\u001B[39m, \u001B[38;5;124m\"\u001B[39m\u001B[38;5;124mRCLinUCB\u001B[39m\u001B[38;5;124m\"\u001B[39m,\n\u001B[0;32m      4\u001B[0m            \u001B[38;5;124m\"\u001B[39m\u001B[38;5;124mLinUCBGlobal\u001B[39m\u001B[38;5;124m\"\u001B[39m,  \u001B[38;5;124m\"\u001B[39m\u001B[38;5;124mWoodburyLinUCBGlobal\u001B[39m\u001B[38;5;124m\"\u001B[39m, \u001B[38;5;124m\"\u001B[39m\u001B[38;5;124mRLinUCBGlobal\u001B[39m\u001B[38;5;124m\"\u001B[39m, \u001B[38;5;124m\"\u001B[39m\u001B[38;5;124mMAB\u001B[39m\u001B[38;5;124m\"\u001B[39m, \u001B[38;5;124m\"\u001B[39m\u001B[38;5;124mRandom\u001B[39m\u001B[38;5;124m\"\u001B[39m, \u001B[38;5;124m\"\u001B[39m\u001B[38;5;124mRLinUCBProduct\u001B[39m\u001B[38;5;124m\"\u001B[39m,\n\u001B[0;32m      5\u001B[0m            \u001B[38;5;124m\"\u001B[39m\u001B[38;5;124mRCLinUCBProduct\u001B[39m\u001B[38;5;124m\"\u001B[39m]\n",
      "File \u001B[1;32m~\\Workspace\\PythonProjects\\CMAB\\simulacion\\Strategies\\LinUCB.py:3\u001B[0m\n\u001B[0;32m      1\u001B[0m \u001B[38;5;28;01mimport\u001B[39;00m \u001B[38;5;21;01mnumpy\u001B[39;00m \u001B[38;5;28;01mas\u001B[39;00m \u001B[38;5;21;01mnp\u001B[39;00m\n\u001B[1;32m----> 3\u001B[0m \u001B[38;5;28;01mfrom\u001B[39;00m \u001B[38;5;21;01m.\u001B[39;00m\u001B[38;5;21;01mMAB\u001B[39;00m \u001B[38;5;28;01mimport\u001B[39;00m MAB\n\u001B[0;32m      4\u001B[0m \u001B[38;5;28;01mfrom\u001B[39;00m \u001B[38;5;21;01m.\u001B[39;00m\u001B[38;5;21;01mRewards\u001B[39;00m \u001B[38;5;28;01mimport\u001B[39;00m BernoulliFeature\n\u001B[0;32m      7\u001B[0m \u001B[38;5;28;01mclass\u001B[39;00m \u001B[38;5;21;01mLinUCB\u001B[39;00m(MAB):\n",
      "File \u001B[1;32m~\\Workspace\\PythonProjects\\CMAB\\simulacion\\Strategies\\MAB.py:5\u001B[0m\n\u001B[0;32m      1\u001B[0m \u001B[38;5;28;01mfrom\u001B[39;00m \u001B[38;5;21;01mabc\u001B[39;00m \u001B[38;5;28;01mimport\u001B[39;00m ABC\n\u001B[0;32m      3\u001B[0m \u001B[38;5;28;01mimport\u001B[39;00m \u001B[38;5;21;01mnumpy\u001B[39;00m \u001B[38;5;28;01mas\u001B[39;00m \u001B[38;5;21;01mnp\u001B[39;00m\n\u001B[1;32m----> 5\u001B[0m \u001B[38;5;28;01mfrom\u001B[39;00m \u001B[38;5;21;01mcodigo\u001B[39;00m\u001B[38;5;21;01m.\u001B[39;00m\u001B[38;5;21;01mStrategies\u001B[39;00m\u001B[38;5;21;01m.\u001B[39;00m\u001B[38;5;21;01mRewards\u001B[39;00m\u001B[38;5;21;01m.\u001B[39;00m\u001B[38;5;21;01mReward\u001B[39;00m \u001B[38;5;28;01mimport\u001B[39;00m Reward\n\u001B[0;32m      8\u001B[0m \u001B[38;5;28;01mclass\u001B[39;00m \u001B[38;5;21;01mMAB\u001B[39;00m(ABC):\n\u001B[0;32m      9\u001B[0m     \u001B[38;5;28;01mdef\u001B[39;00m \u001B[38;5;21m__init__\u001B[39m(\u001B[38;5;28mself\u001B[39m, k: \u001B[38;5;28mint\u001B[39m, iters: \u001B[38;5;28mint\u001B[39m, reward_class: Reward, user_amount: \u001B[38;5;28mint\u001B[39m):\n",
      "\u001B[1;31mModuleNotFoundError\u001B[0m: No module named 'codigo'"
     ]
    }
   ],
   "source": [
    "#CMAB\n",
    "from Strategies.RCLinUCB                   import RCLinUCB\n",
    "from Strategies.RCLinUCBProduct                   import RCLinUCBProduct\n",
    "#Rewards\n",
    "from Strategies.Rewards.OffFeature import OffFeature"
   ]
  },
  {
   "cell_type": "markdown",
   "metadata": {},
   "source": [
    "Init Parameters"
   ]
  },
  {
   "cell_type": "code",
   "execution_count": null,
   "metadata": {},
   "outputs": [],
   "source": [
    "#834596\n",
    "iterations = 100\n",
    "\n",
    "d = 10\n",
    "alpha = 1\n",
    "clusters_amounts = [1,6,12,25,49]\n",
    "lamb = 1\n",
    "\n",
    "sup_percentile = 75\n",
    "inf_percentile = 25"
   ]
  },
  {
   "cell_type": "markdown",
   "metadata": {},
   "source": [
    "Init"
   ]
  },
  {
   "cell_type": "code",
   "execution_count": null,
   "metadata": {},
   "outputs": [],
   "source": [
    "import pickle\n",
    "\n",
    "with open('../datos/users.pkl', 'rb') as fp:\n",
    "    users = list(pickle.load(fp))\n",
    "\n",
    "with open('../datos/articles.pkl', 'rb') as fp:\n",
    "    articles = list(pickle.load(fp).values())\n",
    "    print(articles)"
   ]
  },
  {
   "cell_type": "code",
   "execution_count": null,
   "outputs": [],
   "source": [
    "user_amount = len(users)\n",
    "print(user_amount)\n",
    "\n",
    "k = len(articles)\n",
    "print(k)\n",
    "\n",
    "reward_class1 = OffFeature(articles, users)\n",
    "reward_class2 = OffFeature(articles, users)"
   ],
   "metadata": {
    "collapsed": false
   }
  },
  {
   "cell_type": "code",
   "execution_count": null,
   "outputs": [],
   "source": [
    "# Run experiments\n",
    "cant_valores = 2\n",
    "experimentos = 2\n",
    "resultados              = np.zeros((experimentos,cant_valores,iterations))\n",
    "resultados_p              = np.zeros((experimentos,cant_valores,iterations))\n",
    "valores = np.zeros((cant_valores, 2))\n",
    "# Run experiments\n",
    "for i in    range(cant_valores):\n",
    "    print(str(i)+\"/\"+str(cant_valores))\n",
    "    valores[i,0] = random.random() * 0.9 + 0.1 #alpha\n",
    "    valores[i,1] = random.random() * 0.9 + 0.1 #lamb\n",
    "    for j in range(experimentos):\n",
    "\n",
    "        reward_class1.reset()\n",
    "        reward_class2.reset()\n",
    "\n",
    "        linucbk       = RCLinUCB(k, iterations, reward_class1, d, user_amount, valores[i,0], clusters_amounts, valores[i,1], 500, 100 )\n",
    "        linucbpk       = RCLinUCBProduct(k, iterations, reward_class2, d, user_amount, valores[i,0], clusters_amounts, valores[i,1], 500, 100 )\n",
    "\n",
    "        resultados[j,i]          = linucbk.run()\n",
    "        resultados_p[j,i]          = linucbpk.run()\n",
    "\n"
   ],
   "metadata": {
    "collapsed": false
   }
  },
  {
   "cell_type": "code",
   "execution_count": null,
   "outputs": [],
   "source": [
    "linucb_inf            = np.percentile(resultados,inf_percentile ,axis=0)\n",
    "linucb_median_rew     = np.median(resultados,axis=0)\n",
    "linucb_sup            = np.percentile(resultados,sup_percentile ,axis=0)\n",
    "\n",
    "linucb_p_inf            = np.percentile(resultados_p,inf_percentile ,axis=0)\n",
    "linucb_p_median_rew     = np.median(resultados_p,axis=0)\n",
    "linucb_p_sup            = np.percentile(resultados_p,sup_percentile ,axis=0)"
   ],
   "metadata": {
    "collapsed": false
   }
  },
  {
   "cell_type": "code",
   "execution_count": null,
   "metadata": {},
   "outputs": [],
   "source": [
    "fig, ax = plt.subplots()\n",
    "\n",
    "transparencia = 0.5\n",
    "\n",
    "#linucb\n",
    "for i in range(cant_valores):\n",
    "    plt.plot(resultados[i],label=\"linucb alpha=\" + str(valores[i,0]) + \" lambda=\" + str(valores[i,1]))\n",
    "    plt.plot(resultados_p[i],label=\"linucb productos alpha=\" + str(valores[i,0]) + \" lambda=\" + str(valores[i,1]))\n",
    "\n",
    "plt.legend(bbox_to_anchor=(1.3, 0.5))\n",
    "plt.xlabel(\"Iterations\")\n",
    "plt.ylabel(\"Average Reward\")\n",
    "plt.title(\"Average Reward after \" + str(iterations)\n",
    "    + \" Episodes\")\n",
    "#plt.ylim(0,0.1)\n",
    "plt.show()\n"
   ]
  },
  {
   "cell_type": "code",
   "execution_count": null,
   "outputs": [],
   "source": [
    "linucbk.get_rc().graph()"
   ],
   "metadata": {
    "collapsed": false
   }
  },
  {
   "cell_type": "code",
   "execution_count": null,
   "outputs": [],
   "source": [
    "linucbk.get_model().graph()"
   ],
   "metadata": {
    "collapsed": false
   }
  },
  {
   "cell_type": "code",
   "execution_count": null,
   "outputs": [],
   "source": [
    "n = 4\n",
    "\n",
    "res_max = np.array(resultados[: ,-1]).argsort()[-4:][::-1]\n",
    "res_p_max = np.array(resultados_p[: ,-1]).argsort()[-4:][::-1]\n",
    "print(res_max)\n",
    "print(res_p_max)"
   ],
   "metadata": {
    "collapsed": false
   }
  },
  {
   "cell_type": "code",
   "execution_count": null,
   "outputs": [],
   "source": [
    "i=9\n",
    "\n",
    "for i in res_max:\n",
    "    plt.plot(resultados[i],label=\"linucb alpha=\" + str(valores[i,0]) + \" lambda=\" + str(valores[i,1]))\n",
    "\n",
    "for i in res_p_max:\n",
    "    plt.plot(resultados_p[i],label=\"linucb productos alpha=\" + str(valores[i,0]) + \" lambda=\" + str(valores[i,1]))\n",
    "\n",
    "\n",
    "\n",
    "plt.legend(bbox_to_anchor=(1.3, 0.5))\n",
    "plt.xlabel(\"Iterations\")\n",
    "plt.ylabel(\"Average Reward\")\n",
    "plt.title(\"Average Reward after \" + str(iterations)\n",
    "    + \" Episodes\")"
   ],
   "metadata": {
    "collapsed": false
   }
  }
 ],
 "metadata": {
  "kernelspec": {
   "display_name": "Python 3 (ipykernel)",
   "language": "python",
   "name": "python3"
  },
  "language_info": {
   "codemirror_mode": {
    "name": "ipython",
    "version": 3
   },
   "file_extension": ".py",
   "mimetype": "text/x-python",
   "name": "python",
   "nbconvert_exporter": "python",
   "pygments_lexer": "ipython3",
   "version": "3.10.9"
  }
 },
 "nbformat": 4,
 "nbformat_minor": 1
}
