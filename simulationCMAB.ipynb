{
 "cells": [
  {
   "cell_type": "markdown",
   "metadata": {},
   "source": [
    "Importing libraries"
   ]
  },
  {
   "cell_type": "code",
   "execution_count": 1,
   "metadata": {},
   "outputs": [],
   "source": [
    "import matplotlib.pyplot as plt\n",
    "import numpy as np"
   ]
  },
  {
   "cell_type": "markdown",
   "metadata": {},
   "source": [
    "Importing classes"
   ]
  },
  {
   "cell_type": "code",
   "execution_count": 2,
   "metadata": {},
   "outputs": [],
   "source": [
    "#CMAB\n",
    "from Strategies.CLinUCB import CLinUCB\n",
    "from Strategies.CLUB import CLUB\n",
    "from Strategies.LinUCB                    import LinUCB\n",
    "from Strategies.LinUCBGlobal              import LinUCBGlobal\n",
    "#Rewards\n",
    "from Strategies.Rewards.BernoulliFeature   import BernoulliFeature"
   ]
  },
  {
   "cell_type": "markdown",
   "metadata": {},
   "source": [
    "Init Parameters"
   ]
  },
  {
   "cell_type": "code",
   "execution_count": 3,
   "metadata": {},
   "outputs": [],
   "source": [
    "iterations = 100000\n",
    "experimentos = 10\n",
    "k = 5\n",
    "d = 2\n",
    "alpha = 0.3\n",
    "user_amount = 500\n",
    "max_prob = 0.3\n",
    "noise = 0.3\n",
    "cluster_amount = 2\n",
    "clusters_amounts = [1, 2, 5, 10]\n",
    "\n",
    "sup_percentile = 75\n",
    "inf_percentile = 25"
   ]
  },
  {
   "cell_type": "markdown",
   "metadata": {},
   "source": [
    "Init"
   ]
  },
  {
   "cell_type": "code",
   "execution_count": 4,
   "metadata": {},
   "outputs": [],
   "source": [
    "reward_class = BernoulliFeature(k, d,user_amount,cluster_amount, max_prob, noise)"
   ]
  },
  {
   "cell_type": "code",
   "execution_count": null,
   "metadata": {
    "pycharm": {
     "is_executing": true
    }
   },
   "outputs": [
    {
     "name": "stdout",
     "output_type": "stream",
     "text": [
      "exp: 1/10\n",
      "0/100000\n",
      "1000/100000\n",
      "2000/100000\n",
      "3000/100000\n",
      "4000/100000\n",
      "5000/100000\n",
      "6000/100000\n",
      "7000/100000\n",
      "8000/100000\n",
      "9000/100000\n",
      "10000/100000\n",
      "11000/100000\n",
      "12000/100000\n",
      "13000/100000\n",
      "14000/100000\n",
      "15000/100000\n",
      "16000/100000\n",
      "17000/100000\n",
      "18000/100000\n"
     ]
    }
   ],
   "source": [
    "# Run experiments\n",
    "linucb_regrets              = np.zeros((experimentos,iterations))\n",
    "linucb_g_regrets              = np.zeros((experimentos,iterations))\n",
    "linucb_cluster_regrets       = np.zeros((experimentos,iterations))\n",
    "club_regrets       = np.zeros((experimentos,iterations))\n",
    "# Run experiments\n",
    "for i in    range(experimentos):\n",
    "    print('exp: ' + str(i + 1) + '/' + str(experimentos))\n",
    "\n",
    "    linucb       = LinUCB(k, iterations, reward_class, d, user_amount, alpha )\n",
    "    linucbg      = LinUCBGlobal(k, iterations, reward_class, d, user_amount, alpha )\n",
    "    linucbk      = CLinUCB(k, iterations, reward_class, d, user_amount, alpha, clusters_amounts )\n",
    "    club      = CLUB(k, iterations, reward_class, d, user_amount, alpha)\n",
    "\n",
    "    club_regrets[i]           = club.run()\n",
    "    linucb_cluster_regrets[i]           = linucbk.run()\n",
    "    linucb_regrets[i]                   = linucb.run()\n",
    "    linucb_g_regrets[i]                 = linucbg.run()\n"
   ]
  },
  {
   "cell_type": "code",
   "execution_count": null,
   "metadata": {
    "pycharm": {
     "is_executing": true
    }
   },
   "outputs": [],
   "source": [
    "#linucb\n",
    "linucb_inf            = np.percentile(linucb_regrets,inf_percentile ,axis=0)\n",
    "linucb_median_rew     = np.median(linucb_regrets,axis=0)\n",
    "linucb_sup            = np.percentile(linucb_regrets,sup_percentile ,axis=0)\n",
    "\n",
    "linucb_g_inf            = np.percentile(linucb_g_regrets,inf_percentile ,axis=0)\n",
    "linucb_g_median_rew     = np.median(linucb_g_regrets,axis=0)\n",
    "linucb_g_sup            = np.percentile(linucb_g_regrets,sup_percentile ,axis=0)\n",
    "\n",
    "linucb_c_inf            = np.percentile(linucb_cluster_regrets,inf_percentile ,axis=0)\n",
    "linucb_c_median_rew     = np.median(linucb_cluster_regrets,axis=0)\n",
    "linucb_c_sup            = np.percentile(linucb_cluster_regrets,sup_percentile ,axis=0)\n",
    "\n",
    "#club\n",
    "club_inf            = np.percentile(club_regrets,inf_percentile ,axis=0)\n",
    "club_median_rew     = np.median(club_regrets,axis=0)\n",
    "club_sup            = np.percentile(club_regrets,sup_percentile ,axis=0)"
   ]
  },
  {
   "cell_type": "code",
   "execution_count": null,
   "metadata": {
    "pycharm": {
     "is_executing": true
    }
   },
   "outputs": [],
   "source": [
    "fig, ax = plt.subplots()\n",
    "\n",
    "transparencia = 0.5\n",
    "\n",
    "#linucb\n",
    "plt.plot(linucb_median_rew,label=\"linucb\", color='red')\n",
    "plt.plot(linucb_g_median_rew,label=\"linucb gloabl\", color='green')\n",
    "plt.plot(linucb_c_median_rew,label=\"linucb cluster\", color='blue')\n",
    "plt.plot(club_median_rew,label=\"club\", color='black')\n",
    "\n",
    "plt.legend(bbox_to_anchor=(1.3, 0.5))\n",
    "plt.xlabel(\"Iterations\")\n",
    "plt.ylabel(\"Average Reward\")\n",
    "plt.title(\"Average Reward after \" + str(iterations)\n",
    "    + \" Episodes\")\n",
    "#plt.ylim(0,0.1)\n",
    "plt.show()\n"
   ]
  },
  {
   "cell_type": "code",
   "execution_count": null,
   "outputs": [],
   "source": [
    "max_prob = np.zeros(user_amount)\n",
    "for i in range(user_amount):\n",
    "    max_prob[i] = np.max(reward_class.get_probabilities(i))\n",
    "print(max_prob)\n",
    "print(np.average(max_prob))"
   ],
   "metadata": {
    "collapsed": false,
    "pycharm": {
     "is_executing": true
    }
   }
  },
  {
   "cell_type": "code",
   "execution_count": null,
   "outputs": [],
   "source": [
    "linucbk.get_rc()"
   ],
   "metadata": {
    "collapsed": false,
    "pycharm": {
     "is_executing": true
    }
   }
  },
  {
   "cell_type": "code",
   "execution_count": null,
   "outputs": [],
   "source": [
    "linucbk.get_rc().graph()"
   ],
   "metadata": {
    "collapsed": false,
    "pycharm": {
     "is_executing": true
    }
   }
  },
  {
   "cell_type": "code",
   "execution_count": null,
   "outputs": [],
   "source": [
    "reward_class.graph()"
   ],
   "metadata": {
    "collapsed": false,
    "pycharm": {
     "is_executing": true
    }
   }
  },
  {
   "cell_type": "code",
   "execution_count": null,
   "outputs": [],
   "source": [
    "linucbk.get_model().graph()"
   ],
   "metadata": {
    "collapsed": false,
    "pycharm": {
     "is_executing": true
    }
   }
  }
 ],
 "metadata": {
  "kernelspec": {
   "display_name": "Python 3 (ipykernel)",
   "language": "python",
   "name": "python3"
  },
  "language_info": {
   "codemirror_mode": {
    "name": "ipython",
    "version": 3
   },
   "file_extension": ".py",
   "mimetype": "text/x-python",
   "name": "python",
   "nbconvert_exporter": "python",
   "pygments_lexer": "ipython3",
   "version": "3.10.9"
  }
 },
 "nbformat": 4,
 "nbformat_minor": 1
}
