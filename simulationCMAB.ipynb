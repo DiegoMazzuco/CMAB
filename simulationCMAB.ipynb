{
 "cells": [
  {
   "cell_type": "markdown",
   "metadata": {},
   "source": [
    "Importing libraries"
   ]
  },
  {
   "cell_type": "code",
   "execution_count": null,
   "metadata": {
    "pycharm": {
     "is_executing": true
    }
   },
   "outputs": [],
   "source": [
    "import matplotlib.pyplot as plt\n",
    "import numpy as np\n",
    "import os"
   ]
  },
  {
   "cell_type": "markdown",
   "metadata": {},
   "source": [
    "Importing classes"
   ]
  },
  {
   "cell_type": "code",
   "execution_count": null,
   "metadata": {},
   "outputs": [],
   "source": [
    "#CMAB\n",
    "from Strategies.CLinUCB import CLinUCB\n",
    "from Strategies.LinUCB                    import LinUCB\n",
    "from Strategies.LinUCBGlobal              import LinUCBGlobal\n",
    "#Rewards\n",
    "from Strategies.Rewards.BernoulliFeature   import BernoulliFeature"
   ]
  },
  {
   "cell_type": "markdown",
   "metadata": {},
   "source": [
    "Init Parameters"
   ]
  },
  {
   "cell_type": "code",
   "execution_count": null,
   "metadata": {},
   "outputs": [],
   "source": [
    "iterations = 10000\n",
    "experimentos = 10\n",
    "k = 10\n",
    "d = 2\n",
    "alpha = 0.3\n",
    "user_amount = 500\n",
    "max_prob = 0.3\n",
    "noise = 0.3\n",
    "cluster_amount = 10\n",
    "\n",
    "sup_percentile = 75\n",
    "inf_percentile = 25"
   ]
  },
  {
   "cell_type": "markdown",
   "metadata": {},
   "source": [
    "Init"
   ]
  },
  {
   "cell_type": "code",
   "execution_count": null,
   "metadata": {},
   "outputs": [],
   "source": [
    "reward_class = BernoulliFeature(k, d,user_amount,cluster_amount, max_prob, noise)"
   ]
  },
  {
   "cell_type": "code",
   "execution_count": null,
   "metadata": {},
   "outputs": [],
   "source": [
    "# Run experiments\n",
    "linucb_regrets              = np.zeros((experimentos,iterations))\n",
    "linucb_g_regrets              = np.zeros((experimentos,iterations))\n",
    "linucb_cluster_regrets       = np.zeros((experimentos,iterations))\n",
    "# Run experiments\n",
    "for i in range(experimentos):\n",
    "    print('exp: ' + str(i + 1) + '/' + str(experimentos))\n",
    "\n",
    "    linucb       = LinUCB(k, iterations, reward_class, d, user_amount, alpha )\n",
    "    linucbg      = LinUCBGlobal(k, iterations, reward_class, d, user_amount, alpha )\n",
    "    linucbc      = CLinUCB(k, iterations, reward_class, d, user_amount, alpha, cluster_amount )\n",
    "\n",
    "    linucb_cluster_regrets[i]           = linucbc.run()\n",
    "    linucb_regrets[i]                   = linucb.run()\n",
    "    linucb_g_regrets[i]                   = linucbg.run()\n"
   ]
  },
  {
   "cell_type": "code",
   "execution_count": null,
   "metadata": {},
   "outputs": [],
   "source": [
    "#linucb\n",
    "linucb_inf            = np.percentile(linucb_regrets,inf_percentile ,axis=0)\n",
    "linucb_median_rew     = np.median(linucb_regrets,axis=0)\n",
    "linucb_sup            = np.percentile(linucb_regrets,sup_percentile ,axis=0)\n",
    "\n",
    "linucb_g_inf            = np.percentile(linucb_g_regrets,inf_percentile ,axis=0)\n",
    "linucb_g_median_rew     = np.median(linucb_g_regrets,axis=0)\n",
    "linucb_g_sup            = np.percentile(linucb_g_regrets,sup_percentile ,axis=0)\n",
    "\n",
    "linucb_c_inf            = np.percentile(linucb_cluster_regrets,inf_percentile ,axis=0)\n",
    "linucb_c_median_rew     = np.median(linucb_cluster_regrets,axis=0)\n",
    "linucb_c_sup            = np.percentile(linucb_cluster_regrets,sup_percentile ,axis=0)\n"
   ]
  },
  {
   "cell_type": "code",
   "execution_count": null,
   "metadata": {},
   "outputs": [],
   "source": [
    "fig, ax = plt.subplots()\n",
    "\n",
    "transparencia = 0.5\n",
    "\n",
    "#linucb\n",
    "plt.plot(linucb_median_rew,label=\"linucb\", color='red')\n",
    "plt.plot(linucb_g_median_rew,label=\"linucb gloabl\", color='green')\n",
    "plt.plot(linucb_c_median_rew,label=\"linucb cluster\", color='blue')\n",
    "\n",
    "plt.legend(bbox_to_anchor=(1.3, 0.5))\n",
    "plt.xlabel(\"Iterations\")\n",
    "plt.ylabel(\"Average Reward\")\n",
    "plt.title(\"Average Reward after \" + str(iterations)\n",
    "    + \" Episodes\")\n",
    "#plt.ylim(0,0.1)\n",
    "plt.show()\n"
   ]
  },
  {
   "cell_type": "code",
   "execution_count": null,
   "outputs": [],
   "source": [
    "max_prob = np.zeros(user_amount)\n",
    "for i in range(user_amount):\n",
    "    max_prob[i] = np.max(reward_class.get_probabilities(i))\n",
    "print(max_prob)\n",
    "print(np.average(max_prob))"
   ],
   "metadata": {
    "collapsed": false
   }
  },
  {
   "cell_type": "code",
   "execution_count": null,
   "outputs": [],
   "source": [],
   "metadata": {
    "collapsed": false
   }
  },
  {
   "cell_type": "code",
   "execution_count": null,
   "outputs": [],
   "source": [
    "reward_class.graph()"
   ],
   "metadata": {
    "collapsed": false
   }
  },
  {
   "cell_type": "code",
   "execution_count": null,
   "outputs": [],
   "source": [
    "linucbc.get_kmeans().graph()"
   ],
   "metadata": {
    "collapsed": false
   }
  }
 ],
 "metadata": {
  "kernelspec": {
   "display_name": "Python 3 (ipykernel)",
   "language": "python",
   "name": "python3"
  },
  "language_info": {
   "codemirror_mode": {
    "name": "ipython",
    "version": 3
   },
   "file_extension": ".py",
   "mimetype": "text/x-python",
   "name": "python",
   "nbconvert_exporter": "python",
   "pygments_lexer": "ipython3",
   "version": "3.10.9"
  }
 },
 "nbformat": 4,
 "nbformat_minor": 1
}
